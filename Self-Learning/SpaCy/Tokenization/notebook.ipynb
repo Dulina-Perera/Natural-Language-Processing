{
 "cells": [
  {
   "cell_type": "code",
   "execution_count": 82,
   "id": "ace6bad8-f545-4d2a-9837-b86f9c27dfd7",
   "metadata": {},
   "outputs": [],
   "source": [
    "import spacy\n",
    "import warnings\n",
    "\n",
    "from IPython.display import display\n",
    "from spacy.lang.en import English\n",
    "from spacy.attrs import ORTH\n",
    "from spacy.tokens.doc import Doc\n",
    "from spacy.tokens.span import Span\n",
    "from spacy.tokens.token import Token\n",
    "\n",
    "warnings.filterwarnings(\"ignore\")"
   ]
  },
  {
   "cell_type": "code",
   "execution_count": 83,
   "id": "04aa954d-1c7a-421c-ab77-76d105e0ac9a",
   "metadata": {},
   "outputs": [],
   "source": [
    "nlp: English = spacy.blank(\"en\")"
   ]
  },
  {
   "cell_type": "code",
   "execution_count": 84,
   "id": "3922022e-d73f-4079-a44b-4ea7420d45f8",
   "metadata": {},
   "outputs": [],
   "source": [
    "doc: Doc = nlp(\"Dr. Strange loves pav bhaji of mumbai as it costs only two $ per plate.\")\n",
    "# doc: Doc = nlp('\"Let\\'s go to N.Y.!\"')"
   ]
  },
  {
   "cell_type": "markdown",
   "id": "cc33c48f-c69a-41b4-aaf9-858a0e211ddc",
   "metadata": {},
   "source": [
    "## Word Tokenization"
   ]
  },
  {
   "cell_type": "code",
   "execution_count": 85,
   "id": "854c1912-bd06-49fd-9345-b7eb4c4a563d",
   "metadata": {},
   "outputs": [
    {
     "name": "stdout",
     "output_type": "stream",
     "text": [
      "Dr.\n",
      "Strange\n",
      "loves\n",
      "pav\n",
      "bhaji\n",
      "of\n",
      "mumbai\n",
      "as\n",
      "it\n",
      "costs\n",
      "only\n",
      "two\n",
      "$\n",
      "per\n",
      "plate\n",
      ".\n"
     ]
    }
   ],
   "source": [
    "for token in doc:\n",
    "    print(token)"
   ]
  },
  {
   "cell_type": "code",
   "execution_count": 86,
   "id": "ee5f9188-086f-4a86-abb9-b845af93ed92",
   "metadata": {},
   "outputs": [
    {
     "name": "stdout",
     "output_type": "stream",
     "text": [
      "Dr.\n",
      "Strange loves pav bhaji\n"
     ]
    }
   ],
   "source": [
    "token: Token = doc[0]\n",
    "print(token)\n",
    "\n",
    "token_span = doc[1:5]\n",
    "print(token_span)"
   ]
  },
  {
   "cell_type": "code",
   "execution_count": 87,
   "id": "e49d2668-89e7-4b9b-92ea-b13ec33638be",
   "metadata": {
    "scrolled": true
   },
   "outputs": [
    {
     "name": "stdout",
     "output_type": "stream",
     "text": [
      "Token: Dr.\n",
      "\tIndex: 0\n",
      "\tis_alpha: False\n",
      "\tis_punct: False\n",
      "\tlike_num: False\n",
      "\tis_currency: False\n",
      "Token: Strange\n",
      "\tIndex: 1\n",
      "\tis_alpha: True\n",
      "\tis_punct: False\n",
      "\tlike_num: False\n",
      "\tis_currency: False\n",
      "Token: loves\n",
      "\tIndex: 2\n",
      "\tis_alpha: True\n",
      "\tis_punct: False\n",
      "\tlike_num: False\n",
      "\tis_currency: False\n",
      "Token: pav\n",
      "\tIndex: 3\n",
      "\tis_alpha: True\n",
      "\tis_punct: False\n",
      "\tlike_num: False\n",
      "\tis_currency: False\n",
      "Token: bhaji\n",
      "\tIndex: 4\n",
      "\tis_alpha: True\n",
      "\tis_punct: False\n",
      "\tlike_num: False\n",
      "\tis_currency: False\n",
      "Token: of\n",
      "\tIndex: 5\n",
      "\tis_alpha: True\n",
      "\tis_punct: False\n",
      "\tlike_num: False\n",
      "\tis_currency: False\n",
      "Token: mumbai\n",
      "\tIndex: 6\n",
      "\tis_alpha: True\n",
      "\tis_punct: False\n",
      "\tlike_num: False\n",
      "\tis_currency: False\n",
      "Token: as\n",
      "\tIndex: 7\n",
      "\tis_alpha: True\n",
      "\tis_punct: False\n",
      "\tlike_num: False\n",
      "\tis_currency: False\n",
      "Token: it\n",
      "\tIndex: 8\n",
      "\tis_alpha: True\n",
      "\tis_punct: False\n",
      "\tlike_num: False\n",
      "\tis_currency: False\n",
      "Token: costs\n",
      "\tIndex: 9\n",
      "\tis_alpha: True\n",
      "\tis_punct: False\n",
      "\tlike_num: False\n",
      "\tis_currency: False\n",
      "Token: only\n",
      "\tIndex: 10\n",
      "\tis_alpha: True\n",
      "\tis_punct: False\n",
      "\tlike_num: False\n",
      "\tis_currency: False\n",
      "Token: two\n",
      "\tIndex: 11\n",
      "\tis_alpha: True\n",
      "\tis_punct: False\n",
      "\tlike_num: True\n",
      "\tis_currency: False\n",
      "Token: $\n",
      "\tIndex: 12\n",
      "\tis_alpha: False\n",
      "\tis_punct: False\n",
      "\tlike_num: False\n",
      "\tis_currency: True\n",
      "Token: per\n",
      "\tIndex: 13\n",
      "\tis_alpha: True\n",
      "\tis_punct: False\n",
      "\tlike_num: False\n",
      "\tis_currency: False\n",
      "Token: plate\n",
      "\tIndex: 14\n",
      "\tis_alpha: True\n",
      "\tis_punct: False\n",
      "\tlike_num: False\n",
      "\tis_currency: False\n",
      "Token: .\n",
      "\tIndex: 15\n",
      "\tis_alpha: False\n",
      "\tis_punct: True\n",
      "\tlike_num: False\n",
      "\tis_currency: False\n"
     ]
    }
   ],
   "source": [
    "for token in doc:\n",
    "    print(f\"Token: {token}\\n\\tIndex: {token.i}\\n\\tis_alpha: {token.is_alpha}\\n\\tis_punct: {token.is_punct}\\n\\tlike_num: {token.like_num}\\n\\tis_currency: {token.is_currency}\")"
   ]
  },
  {
   "cell_type": "markdown",
   "id": "c679cd44-2ea3-49fd-bb4c-ddd72f382216",
   "metadata": {},
   "source": [
    "### A Use Case"
   ]
  },
  {
   "cell_type": "code",
   "execution_count": 88,
   "id": "10872cab-c814-4f55-968e-8c9c2bfa4e39",
   "metadata": {},
   "outputs": [
    {
     "data": {
      "text/plain": [
       "['Dayton high school, 8th grade students information\\n',\n",
       " '==================================================\\n',\n",
       " '\\n',\n",
       " 'Name\\tbirth day   \\temail\\n',\n",
       " '-----\\t------------\\t------\\n',\n",
       " 'Virat   5 June, 1882    virat@kohli.com\\n',\n",
       " 'Maria\\t12 April, 2001  maria@sharapova.com\\n',\n",
       " 'Serena  24 June, 1998   serena@williams.com \\n',\n",
       " 'Joe      1 May, 1997    joe@root.com\\n',\n",
       " '\\n',\n",
       " '\\n',\n",
       " '\\n']"
      ]
     },
     "metadata": {},
     "output_type": "display_data"
    }
   ],
   "source": [
    "with open(\"students.txt\", mode=\"r\") as f:\n",
    "    text: list[str] = f.readlines()\n",
    "\n",
    "display(text)"
   ]
  },
  {
   "cell_type": "code",
   "execution_count": 89,
   "id": "3041fcd3-c8fa-4a38-af63-60ef89accc34",
   "metadata": {},
   "outputs": [
    {
     "name": "stdout",
     "output_type": "stream",
     "text": [
      "Dayton high school, 8th grade students information\n",
      "==================================================\n",
      "\n",
      "Name\tbirth day   \temail\n",
      "-----\t------------\t------\n",
      "Virat   5 June, 1882    virat@kohli.com\n",
      "Maria\t12 April, 2001  maria@sharapova.com\n",
      "Serena  24 June, 1998   serena@williams.com \n",
      "Joe      1 May, 1997    joe@root.com\n",
      "\n",
      "\n",
      "\n",
      "\n"
     ]
    }
   ],
   "source": [
    "text: str = \"\".join(text)\n",
    "print(text)"
   ]
  },
  {
   "cell_type": "code",
   "execution_count": 90,
   "id": "3432903e-ee27-46cc-b447-2c98574f5c6e",
   "metadata": {},
   "outputs": [
    {
     "data": {
      "text/plain": [
       "[virat@kohli.com, maria@sharapova.com, serena@williams.com, joe@root.com]"
      ]
     },
     "metadata": {},
     "output_type": "display_data"
    }
   ],
   "source": [
    "doc = nlp(text)\n",
    "\n",
    "emails: list[Token] = []\n",
    "for token in doc:\n",
    "    if token.like_email:\n",
    "        emails.append(token)\n",
    "\n",
    "display(emails)"
   ]
  },
  {
   "cell_type": "markdown",
   "id": "52c5e433-96fd-443f-bc2f-93eac38e5d4b",
   "metadata": {},
   "source": [
    "## A Sinhala Language Model"
   ]
  },
  {
   "cell_type": "code",
   "execution_count": 91,
   "id": "9b988593-b3f6-4276-980e-c059cd055a8a",
   "metadata": {},
   "outputs": [
    {
     "name": "stdout",
     "output_type": "stream",
     "text": [
      "මගේ\n",
      "නම\n",
      "දුලින\n",
      "පෙරේරා\n",
      ".\n",
      "ඔබේ\n",
      "නම\n",
      "කුමක්ද\n",
      "?\n"
     ]
    }
   ],
   "source": [
    "nlp = spacy.blank(\"si\")\n",
    "\n",
    "doc = nlp(\"මගේ නම දුලින පෙරේරා. ඔබේ නම කුමක්ද?\")\n",
    "\n",
    "for token in doc:\n",
    "    print(token)"
   ]
  },
  {
   "cell_type": "markdown",
   "id": "7fba0839-f7c3-4b19-9739-0d398424276f",
   "metadata": {},
   "source": [
    "## Customize Tokenization Rules"
   ]
  },
  {
   "cell_type": "code",
   "execution_count": 92,
   "id": "82c18d5a-e418-4de2-a228-de2eba17f1be",
   "metadata": {},
   "outputs": [
    {
     "data": {
      "text/plain": [
       "['gimme', 'double', 'cheese', 'extra', 'large', 'healthy', 'pizza']"
      ]
     },
     "metadata": {},
     "output_type": "display_data"
    }
   ],
   "source": [
    "nlp = spacy.blank(\"en\")\n",
    "\n",
    "doc = nlp(\"gimme double cheese extra large healthy pizza\")\n",
    "\n",
    "tokens: list[str] = [token.text for token in doc]\n",
    "display(tokens)"
   ]
  },
  {
   "cell_type": "code",
   "execution_count": 93,
   "id": "ce2037f3-80da-4d2f-9f24-d7d3f6f8b413",
   "metadata": {},
   "outputs": [
    {
     "data": {
      "text/plain": [
       "['gim', 'me', 'double', 'cheese', 'extra', 'large', 'healthy', 'pizza']"
      ]
     },
     "metadata": {},
     "output_type": "display_data"
    }
   ],
   "source": [
    "nlp.tokenizer.add_special_case(\"gimme\", [\n",
    "    {ORTH: \"gim\"},\n",
    "    {ORTH: \"me\"}\n",
    "])\n",
    "\n",
    "doc = nlp(\"gimme double cheese extra large healthy pizza\")\n",
    "\n",
    "tokens: list[str] = [token.text for token in doc]\n",
    "display(tokens)"
   ]
  },
  {
   "cell_type": "markdown",
   "id": "70954354-297c-486a-ac4f-54da5c126435",
   "metadata": {},
   "source": [
    "## Sentence Tokenization"
   ]
  },
  {
   "cell_type": "code",
   "execution_count": 94,
   "id": "48c70e58-2d84-4526-9547-d20a336936dc",
   "metadata": {},
   "outputs": [
    {
     "name": "stdout",
     "output_type": "stream",
     "text": [
      "Dr. Strange loves pav bhaji of mumbai.\n",
      "Hulk loves chat of delhi.\n"
     ]
    }
   ],
   "source": [
    "nlp.add_pipe(\"sentencizer\")\n",
    "\n",
    "doc = nlp(\"Dr. Strange loves pav bhaji of mumbai. Hulk loves chat of delhi.\")\n",
    "\n",
    "for sent in doc.sents:\n",
    "    print(sent)"
   ]
  },
  {
   "cell_type": "code",
   "execution_count": null,
   "id": "87566b06-5510-4984-9f65-4dba893f43ed",
   "metadata": {},
   "outputs": [],
   "source": []
  }
 ],
 "metadata": {
  "kernelspec": {
   "display_name": "Python 3 (ipykernel)",
   "language": "python",
   "name": "python3"
  },
  "language_info": {
   "codemirror_mode": {
    "name": "ipython",
    "version": 3
   },
   "file_extension": ".py",
   "mimetype": "text/x-python",
   "name": "python",
   "nbconvert_exporter": "python",
   "pygments_lexer": "ipython3",
   "version": "3.12.3"
  }
 },
 "nbformat": 4,
 "nbformat_minor": 5
}
