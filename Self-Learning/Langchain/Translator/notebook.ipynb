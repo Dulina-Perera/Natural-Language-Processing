{
 "cells": [
  {
   "cell_type": "code",
   "execution_count": 9,
   "metadata": {},
   "outputs": [],
   "source": [
    "import getpass\n",
    "import os\n",
    "\n",
    "from dotenv import load_dotenv\n",
    "from langchain_core.messages import AIMessage, HumanMessage, SystemMessage\n",
    "from langchain_core.output_parsers import StrOutputParser\n",
    "from langchain_core.prompts import ChatPromptTemplate\n",
    "from langchain_core.prompt_values import ChatPromptValue\n",
    "from langchain_core.runnables import RunnableSequence\n",
    "from langchain_mistralai import ChatMistralAI\n",
    "from langchain_openai import ChatOpenAI"
   ]
  },
  {
   "cell_type": "code",
   "execution_count": 10,
   "metadata": {},
   "outputs": [
    {
     "data": {
      "text/plain": [
       "True"
      ]
     },
     "execution_count": 10,
     "metadata": {},
     "output_type": "execute_result"
    }
   ],
   "source": [
    "os.environ.pop(\"LANGCHAIN_API_KEY\", None) if \"LANGCHAIN_API_KEY\" in os.environ else None\n",
    "os.environ[\"LANGCHAIN_TRACING_V2\"] = \"false\"\n",
    "os.environ.pop(\"MISTRAL_API_KEY\", None) if \"MISTRAL_API_KEY\" in os.environ else None\n",
    "os.environ.pop(\"OPENAI_API_KEY\", None) if \"OPENAI_API_KEY\" in os.environ else None\n",
    "\n",
    "# os.environ[\"LANGCHAIN_API_KEY\"] = getpass.getpass(\"Enter your Langchain API key: \")\n",
    "# os.environ[\"LANGCHAIN_TRACING_V2\"] = \"true\"\n",
    "# os.environ[\"MISTRAL_API_KEY\"] = getpass.getpass(\"Enter your Mistral API key: \")\n",
    "# os.environ[\"OPENAI_API_KEY\"] = getpass.getpass(\"Enter your OpenAI API key: \")\n",
    "\n",
    "load_dotenv()"
   ]
  },
  {
   "cell_type": "markdown",
   "metadata": {},
   "source": [
    "## Using Language Models"
   ]
  },
  {
   "cell_type": "code",
   "execution_count": 17,
   "metadata": {},
   "outputs": [
    {
     "name": "stdout",
     "output_type": "stream",
     "text": [
      "content='Ciao!' response_metadata={'token_usage': {'prompt_tokens': 16, 'total_tokens': 19, 'completion_tokens': 3}, 'model': 'mistral-small-latest', 'finish_reason': 'stop'} id='run-f9c18456-7586-4ae9-913b-c4ffb362f235-0'\n"
     ]
    }
   ],
   "source": [
    "model: ChatMistralAI = ChatMistralAI(\n",
    "    model=\"mistral-small-latest\", temperature=0, api_key=os.environ[\"MISTRAL_API_KEY\"]\n",
    ")\n",
    "# model: ChatOpenAI = ChatOpenAI(\n",
    "#     model=\"gpt-3.5-turbo\", temperature=0, api_key=os.environ[\"OPENAI_API_KEY\"]\n",
    "# )\n",
    "\n",
    "messages: list[HumanMessage | SystemMessage] = [\n",
    "    SystemMessage(content=\"Translate the following from English into Italian.\"),\n",
    "    HumanMessage(content=\"Hi!\"),\n",
    "]\n",
    "\n",
    "response: AIMessage = model.invoke(messages)\n",
    "print(response)"
   ]
  },
  {
   "cell_type": "markdown",
   "metadata": {},
   "source": [
    "## Output Parsers"
   ]
  },
  {
   "cell_type": "code",
   "execution_count": 12,
   "metadata": {},
   "outputs": [
    {
     "name": "stdout",
     "output_type": "stream",
     "text": [
      "Ciao!\n"
     ]
    }
   ],
   "source": [
    "parser: StrOutputParser = StrOutputParser()\n",
    "print(parser.invoke(response))"
   ]
  },
  {
   "cell_type": "code",
   "execution_count": 13,
   "metadata": {},
   "outputs": [
    {
     "data": {
      "text/plain": [
       "'Ciao!'"
      ]
     },
     "execution_count": 13,
     "metadata": {},
     "output_type": "execute_result"
    }
   ],
   "source": [
    "chain: RunnableSequence = model | parser\n",
    "chain.invoke(messages)"
   ]
  },
  {
   "cell_type": "markdown",
   "metadata": {},
   "source": [
    "## Prompt Templates"
   ]
  },
  {
   "cell_type": "code",
   "execution_count": 14,
   "metadata": {},
   "outputs": [
    {
     "name": "stdout",
     "output_type": "stream",
     "text": [
      "messages=[SystemMessage(content='Translate the following into Italian.'), HumanMessage(content='Hi!')]\n",
      "[SystemMessage(content='Translate the following into Italian.'), HumanMessage(content='Hi!')]\n"
     ]
    }
   ],
   "source": [
    "system_template: str = \"Translate the following into {language}.\"\n",
    "\n",
    "prompt_template: ChatPromptTemplate = ChatPromptTemplate.from_messages(\n",
    "    [(\"system\", system_template), (\"user\", \"{text}\")]\n",
    ")\n",
    "prompt: ChatPromptValue = prompt_template.invoke({\"language\": \"Italian\", \"text\": \"Hi!\"})\n",
    "print(prompt)\n",
    "\n",
    "messages: list[HumanMessage | SystemMessage] = prompt.to_messages()\n",
    "print(messages)"
   ]
  },
  {
   "cell_type": "markdown",
   "metadata": {},
   "source": [
    "## LCEL"
   ]
  },
  {
   "cell_type": "code",
   "execution_count": 16,
   "metadata": {},
   "outputs": [
    {
     "name": "stdout",
     "output_type": "stream",
     "text": [
      "Ciao!\n"
     ]
    }
   ],
   "source": [
    "chain = prompt_template | model | parser\n",
    "\n",
    "response = chain.invoke({\"language\": \"Italian\", \"text\": \"Hi!\"})\n",
    "print(response)"
   ]
  }
 ],
 "metadata": {
  "kernelspec": {
   "display_name": "nlp",
   "language": "python",
   "name": "python3"
  },
  "language_info": {
   "codemirror_mode": {
    "name": "ipython",
    "version": 3
   },
   "file_extension": ".py",
   "mimetype": "text/x-python",
   "name": "python",
   "nbconvert_exporter": "python",
   "pygments_lexer": "ipython3",
   "version": "3.12.3"
  }
 },
 "nbformat": 4,
 "nbformat_minor": 2
}
